{
 "cells": [
  {
   "cell_type": "code",
   "execution_count": 1,
   "metadata": {
    "collapsed": true
   },
   "outputs": [],
   "source": [
    "import numpy as np\n",
    "import pylab\n",
    "import pandas as pd\n",
    "from scipy.stats import linregress\n",
    "from matplotlib.colors import LogNorm\n",
    "from numpy import polyfit\n",
    "from scipy.optimize import brenth\n",
    "from scipy.interpolate import interp1d,UnivariateSpline\n",
    "%matplotlib inline"
   ]
  },
  {
   "cell_type": "markdown",
   "metadata": {},
   "source": [
    "## Main figure panel d, e, f"
   ]
  },
  {
   "cell_type": "code",
   "execution_count": 64,
   "metadata": {
    "collapsed": false
   },
   "outputs": [],
   "source": [
    "def PlotPhaseDiagram(length, csize, p):\n",
    "    df = pd.read_csv('PhaseDiagSizeDistriL'+str(length)+'.txt', sep='\\t', header=None)\n",
    "    df.columns = ['NSIM', 'NSUMO', 'LSIM', 'LSUMO', 'beta', 'gamma', 'step', 'Sizes']\n",
    "\n",
    "    df.reset_index(inplace=True)\n",
    "    ratio_in_cluster = []\n",
    "    for idx in range(len(df)):\n",
    "        distri = df.loc[idx].Sizes\n",
    "        sizes = distri.split('[')[1].split(']')[0].split(' ')\n",
    "        sizes = filter(None, sizes)\n",
    "        sizes = pylab.array([int(ele) for ele in sizes])\n",
    "        ratio_in_cluster.append(sum(sizes[sizes>csize])/float(sum(sizes)))\n",
    "\n",
    "    df['RatioInCluster'] = ratio_in_cluster\n",
    "\n",
    "    meanval = df.groupby(['NSIM', 'beta'])['RatioInCluster'].mean()\n",
    "    meandata = pd.DataFrame(meanval.to_frame().to_records())\n",
    "    cnt = df.groupby(['NSIM', 'beta'])['RatioInCluster'].count()\n",
    "    cntdata = df.groupby(['NSIM', 'beta'])['RatioInCluster'].count()\n",
    "\n",
    "    ddf = meanval.to_frame()\n",
    "    ddc = cntdata.to_frame()\n",
    "    ddf['Count'] = ddc.RatioInCluster.values\n",
    "\n",
    "    ddf = ddf[ddf.Count>2]\n",
    "\n",
    "    ###\n",
    "    ddf.reset_index(inplace=True)\n",
    "    k = ddf.groupby(['NSIM', 'beta']).mean().unstack()\n",
    "    kk = k.RatioInCluster.values# - k.RatioInCluster_y.values\n",
    "    ###\n",
    "\n",
    "    fig, ax = pylab.subplots()\n",
    "    kk = kk.transpose()\n",
    "    ff = ax.imshow(kk, interpolation='none', vmin=0, vmax=1, extent=[min(df.NSUMO)*8/2500.0, max(df.NSUMO)*8/2500.0, 11,0], cmap='Blues')\n",
    "    ax.set_aspect(150/2500.0)\n",
    "    #pylab.xlabel('Rubisco concentration')\n",
    "    #pylab.ylabel('Specific Bond Energy (kT)')\n",
    "    ax.set_xticklabels([])\n",
    "    ax.set_yticklabels([])\n",
    "    pylab.rc('xtick', labelsize=0.0)\n",
    "    pylab.rc('ytick', labelsize=0.0)\n",
    "    if p == 1:\n",
    "        cbar = fig.colorbar(ff, ticks = [0, 0.2, 0.4, 0.6, 0.8, 1])\n",
    "        pylab.savefig('/Users/binxu/Desktop/Rubisco_plots/PercentageOfRubiscosInClusterSizeColorbar.png', dpi=500)\n",
    "    else:\n",
    "        pylab.savefig('/Users/binxu/Desktop/Rubisco_plots/L'+str(length)+'PercentageOfRubiscosInClusterSize'+str(csize)+'.png', dpi=500)"
   ]
  },
  {
   "cell_type": "code",
   "execution_count": 63,
   "metadata": {
    "collapsed": false
   },
   "outputs": [
    {
     "data": {
      "image/png": "[encoded data removed]",
      "text/plain": [
       "<matplotlib.figure.Figure at 0x113c41b10>"
      ]
     },
     "metadata": {},
     "output_type": "display_data"
    }
   ],
   "source": [
    "length = 3\n",
    "csize = 10\n",
    "p = 0\n",
    "PlotPhaseDiagram(length, csize, p)"
   ]
  },
  {
   "cell_type": "code",
   "execution_count": 58,
   "metadata": {
    "collapsed": false
   },
   "outputs": [
    {
     "data": {
      "image/png": "[encoded data removed]",
      "text/plain": [
       "<matplotlib.figure.Figure at 0x114d94910>"
      ]
     },
     "metadata": {},
     "output_type": "display_data"
    }
   ],
   "source": [
    "length = 4\n",
    "csize = 10\n",
    "p = 0\n",
    "PlotPhaseDiagram(length, csize, p)"
   ]
  },
  {
   "cell_type": "code",
   "execution_count": 59,
   "metadata": {
    "collapsed": false
   },
   "outputs": [
    {
     "data": {
      "image/png": "[encoded data removed]",
      "text/plain": [
       "<matplotlib.figure.Figure at 0x112b43750>"
      ]
     },
     "metadata": {},
     "output_type": "display_data"
    }
   ],
   "source": [
    "length = 5\n",
    "csize = 10\n",
    "p = 0\n",
    "PlotPhaseDiagram(length, csize, p)"
   ]
  },
  {
   "cell_type": "code",
   "execution_count": 60,
   "metadata": {
    "collapsed": false
   },
   "outputs": [
    {
     "data": {
      "image/png": "[encoded data removed]",
      "text/plain": [
       "<matplotlib.figure.Figure at 0x111a73d50>"
      ]
     },
     "metadata": {},
     "output_type": "display_data"
    }
   ],
   "source": [
    "length = 3\n",
    "csize = 10\n",
    "p = 1\n",
    "PlotPhaseDiagram(length, csize, p)"
   ]
  },
  {
   "cell_type": "markdown",
   "metadata": {},
   "source": [
    "## Main figure panel j, k. Extended figure panel i"
   ]
  },
  {
   "cell_type": "code",
   "execution_count": 2,
   "metadata": {
    "collapsed": true
   },
   "outputs": [],
   "source": [
    "df = pd.read_csv('AllSizeDistri.txt', sep='\\t', header=None)\n",
    "df.columns = ['NSIM', 'NSUMO', 'LSIM', 'LSUMO', 'beta', 'gamma', 'step', 'Sizes']\n",
    "csize = 10\n",
    "\n",
    "ratio_in_cluster = []\n",
    "for idx in range(len(df)):\n",
    "    distri = df.loc[idx].Sizes\n",
    "    sizes = distri.split('[')[1].split(']')[0].split(' ')\n",
    "    sizes = filter(None, sizes)\n",
    "    sizes = pylab.array([int(ele) for ele in sizes])\n",
    "    ratio_in_cluster.append(sum(sizes[sizes>csize])/float(sum(sizes)))\n",
    "\n",
    "df['RatioInCluster'] = ratio_in_cluster\n",
    "df = df[df.beta==10]"
   ]
  },
  {
   "cell_type": "code",
   "execution_count": 3,
   "metadata": {
    "collapsed": true
   },
   "outputs": [],
   "source": [
    "def get_proba(df):\n",
    "    meanval = df.groupby(['NSIM', 'beta'])['RatioInCluster'].mean()\n",
    "    meandata = pd.DataFrame(meanval.to_frame().to_records())\n",
    "    ddf = meanval.to_frame()\n",
    "    ddf.reset_index(inplace=True)\n",
    "    k = ddf.groupby(['NSIM', 'beta']).mean().unstack()\n",
    "    kk = k.RatioInCluster.values\n",
    "    return k"
   ]
  },
  {
   "cell_type": "code",
   "execution_count": 4,
   "metadata": {
    "collapsed": true
   },
   "outputs": [],
   "source": [
    "def prep_plot(LSIM, k):\n",
    "    x = get_proba(df[df.LSIM==LSIM]).reset_index().NSIM.values*LSIM/2500.0\n",
    "    y = get_proba(df[df.LSIM==LSIM]).reset_index().RatioInCluster.values.transpose()[0]\n",
    "    ff = UnivariateSpline(x[k:], y[k:], k=4)\n",
    "\n",
    "    xfit = pylab.arange(0.01, 0.76, 0.01)\n",
    "    yfit = ff(xfit)\n",
    "\n",
    "    try:\n",
    "        x0 = max([xx for xx, yy in zip(xfit, yfit) if yy <= 0])+0.01\n",
    "    except:\n",
    "        x0 = [xx for xx, yy in zip(xfit, yfit) if yy == min(yfit)][-1]\n",
    "    y0 = ff(x0)\n",
    "    ids = [idd for idd, val in enumerate(xfit) if val < x0]\n",
    "    try:\n",
    "        idk = max(ids)\n",
    "    except:\n",
    "        idk = 0\n",
    "    return x, y, xfit[idk:], yfit[idk:], x0, y0"
   ]
  },
  {
   "cell_type": "markdown",
   "metadata": {},
   "source": [
    "### panel j"
   ]
  },
  {
   "cell_type": "code",
   "execution_count": 6,
   "metadata": {
    "collapsed": false
   },
   "outputs": [
    {
     "data": {
      "text/plain": [
       "[None, None, None, None]"
      ]
     },
     "execution_count": 6,
     "metadata": {},
     "output_type": "execute_result"
    },
    {
     "data": {
      "image/png": "[encoded data removed]",
      "text/plain": [
       "<matplotlib.figure.Figure at 0x112004790>"
      ]
     },
     "metadata": {},
     "output_type": "display_data"
    }
   ],
   "source": [
    "fig = pylab.figure()\n",
    "ax = fig.add_subplot(111)\n",
    "for LL in [2,3,4,5,6,7,8]:\n",
    "    x, y, _, _, _, _ = prep_plot(LL, 0)\n",
    "    ax.plot(x, y, label='L='+str(LL))\n",
    "pylab.ylim([0, 1])\n",
    "pylab.xlim([0, 0.8])\n",
    "ax.set_aspect(1)\n",
    "pylab.rc('xtick', labelsize=0)\n",
    "pylab.rc('ytick', labelsize=0)\n",
    "ax.set_xticklabels([])\n",
    "ax.set_yticklabels([])\n",
    "pylab.xticks([0, 0.2, 0.4, 0.6, 0.8])\n",
    "[i.set_linewidth(1) for i in ax.spines.itervalues()]\n",
    "#pylab.savefig('/Users/binxu/Desktop/Rubisco_plots/Fig-4.7-fraction_conenctration_different_lengths.png', dpi=500)\n",
    "#pylab.legend()\n",
    "#ax.set_xlabel('Rubisco concentration', fontsize=20)\n",
    "#ax.set_ylabel('Fraction of Rubiscos in clusters of 10+', fontsize=20)"
   ]
  },
  {
   "cell_type": "markdown",
   "metadata": {},
   "source": [
    "### extended panel i"
   ]
  },
  {
   "cell_type": "code",
   "execution_count": 7,
   "metadata": {
    "collapsed": false
   },
   "outputs": [
    {
     "data": {
      "text/plain": [
       "[None, None, None, None]"
      ]
     },
     "execution_count": 7,
     "metadata": {},
     "output_type": "execute_result"
    },
    {
     "data": {
      "image/png": "[encoded data removed]",
      "text/plain": [
       "<matplotlib.figure.Figure at 0x113d866d0>"
      ]
     },
     "metadata": {},
     "output_type": "display_data"
    }
   ],
   "source": [
    "fig = pylab.figure()\n",
    "ax = fig.add_subplot(111)\n",
    "fitstart = {2:0, 3:0, 4:0, 5:0, 6:0, 7:0, 8:0}\n",
    "Llist = [2,3,4,5,6,7,8]\n",
    "thres = []\n",
    "colors = {2:'b', 3:'g', 4:'r', 5:'c', 6:'m', 7:'y', 8:'k'}\n",
    "for LL in Llist:\n",
    "    x, y, xfit, yfit, x0, y0 = prep_plot(LL, fitstart[LL])\n",
    "    ax.plot(x, y, colors[LL]+'o', linewidth=0, label='L='+str(LL))\n",
    "    ax.plot(xfit, yfit, colors[LL])\n",
    "    thres.append(x0)\n",
    "pylab.ylim([0, 1])\n",
    "pylab.xlim([0, 0.8])\n",
    "ax.set_aspect(1.5)\n",
    "pylab.rc('xtick', labelsize=0)\n",
    "pylab.rc('ytick', labelsize=0)\n",
    "pylab.xticks([0, 0.2, 0.4, 0.6, 0.8])\n",
    "[i.set_linewidth(0.5) for i in ax.spines.itervalues()]\n",
    "#pylab.savefig('/Users/binxu/Desktop/Rubisco_plots/Fig-SXX-Determination-onset.pdf')\n",
    "#pylab.legend()\n",
    "#ax.set_xlabel('Rubisco concentration', fontsize=20)\n",
    "#ax.set_ylabel('Fraction of Rubiscos in clusters of 10+', fontsize=20)"
   ]
  },
  {
   "cell_type": "markdown",
   "metadata": {},
   "source": [
    "### panel k"
   ]
  },
  {
   "cell_type": "code",
   "execution_count": 8,
   "metadata": {
    "collapsed": false
   },
   "outputs": [
    {
     "data": {
      "text/plain": [
       "[]"
      ]
     },
     "execution_count": 8,
     "metadata": {},
     "output_type": "execute_result"
    },
    {
     "data": {
      "image/png": "[encoded data removed]",
      "text/plain": [
       "<matplotlib.figure.Figure at 0x1121adcd0>"
      ]
     },
     "metadata": {},
     "output_type": "display_data"
    }
   ],
   "source": [
    "fig = pylab.figure()\n",
    "ax = fig.add_subplot(111)\n",
    "pylab.plot(Llist, thres, '-o')\n",
    "ax.set_aspect(20)\n",
    "[i.set_linewidth(1) for i in ax.spines.itervalues()]\n",
    "pylab.rc('xtick', labelsize=0)\n",
    "pylab.rc('ytick', labelsize=0)\n",
    "ax.set_xticklabels([])\n",
    "ax.set_yticklabels([])\n",
    "#pylab.savefig('/Users/binxu/Desktop/Rubisco_plots/Fig-4.9-ClusteringOnset.png', dpi=500)"
   ]
  },
  {
   "cell_type": "markdown",
   "metadata": {},
   "source": [
    "### panel l"
   ]
  },
  {
   "cell_type": "code",
   "execution_count": 11,
   "metadata": {
    "collapsed": true
   },
   "outputs": [],
   "source": [
    "picks = {2:188, 3:125, 4:94, 5:75, 6:63, 7:54, 8:47} # 15 percent"
   ]
  },
  {
   "cell_type": "code",
   "execution_count": 12,
   "metadata": {
    "collapsed": false
   },
   "outputs": [
    {
     "name": "stderr",
     "output_type": "stream",
     "text": [
      "/Users/binxu/anaconda/lib/python2.7/site-packages/ipykernel/__main__.py:4: UserWarning: Boolean Series key will be reindexed to match DataFrame index.\n"
     ]
    },
    {
     "data": {
      "text/plain": [
       "[None, None, None, None]"
      ]
     },
     "execution_count": 12,
     "metadata": {},
     "output_type": "execute_result"
    },
    {
     "data": {
      "image/png": "[encoded data removed]",
      "text/plain": [
       "<matplotlib.figure.Figure at 0x112318e50>"
      ]
     },
     "metadata": {},
     "output_type": "display_data"
    }
   ],
   "source": [
    "binedges = range(1,200)\n",
    "themat = pylab.zeros((7, len(binedges)-1))\n",
    "for idxL, ll in enumerate(range(2,9)):\n",
    "    dfsmall = df[df.LSIM==ll][df.NSIM == picks[ll]]\n",
    "    dfsmall.reset_index()\n",
    "    alllist = []\n",
    "    for idx in range(len(dfsmall)):\n",
    "        distri = dfsmall.iloc[idx].Sizes\n",
    "        sizes = distri.split('[')[1].split(']')[0].split(' ')\n",
    "        sizes = filter(None, sizes)\n",
    "        sizes = [int(ele) for ele in sizes]\n",
    "        alllist+=sizes\n",
    "    histo, _ = pylab.histogram(alllist, density=True, bins=binedges)\n",
    "    themat[idxL, :] = histo\n",
    "\n",
    "thereducedmat = themat[:,0:6]\n",
    "for i in range(6):\n",
    "    thereducedmat[i, 5] = sum(themat[i, 5:])\n",
    "fig, ax = pylab.subplots()\n",
    "ff = ax.imshow(pylab.flipud(thereducedmat.transpose()),\n",
    "               cmap='Blues',\n",
    "               interpolation='none',\n",
    "               extent=[2,8,0,6])\n",
    "pylab.xticks([])\n",
    "pylab.yticks([])\n",
    "ax.set_aspect(1)\n",
    "pylab.colorbar(ff, ticks=[0, 0.2, 0.4, 0.6, 0.8, 1])\n",
    "[i.set_linewidth(1) for i in ax.spines.itervalues()]\n",
    "#pylab.savefig('/Users/binxu/Desktop/Rubisco_plots/Fig-4.8-DistributionVsLength15pct.png', dpi=500)"
   ]
  },
  {
   "cell_type": "markdown",
   "metadata": {},
   "source": [
    "## Extended panel k"
   ]
  },
  {
   "cell_type": "code",
   "execution_count": 3,
   "metadata": {
    "collapsed": true
   },
   "outputs": [],
   "source": [
    "def n_in_cluster(distri, c, cluster_size):\n",
    "    distribution = np.array([int(ele.split(',')[1]) for ele in distri[1:-2].split(') (')])\n",
    "    filtered = [ele if ele >= cluster_size else 0 for ele in distribution]\n",
    "    return sum(filtered)/float(sum(distribution))"
   ]
  },
  {
   "cell_type": "code",
   "execution_count": 3,
   "metadata": {
    "collapsed": true
   },
   "outputs": [],
   "source": [
    "def ensemble_in_cluster(r, c, repeat):\n",
    "    df = pd.read_table(open('OffLatticeResult/density/result'+str(repeat)+'/run'+str(r)+'_L'+str(c)+'.txt', 'r'), header=None)\n",
    "\n",
    "    in_cluster = [n_in_cluster(df.iloc[idx,1], c, 10) for idx in range(len(df))]\n",
    "    df['in_cluster'] = in_cluster\n",
    "\n",
    "    return np.mean(df.in_cluster), np.std(df.in_cluster)"
   ]
  },
  {
   "cell_type": "code",
   "execution_count": 5,
   "metadata": {
    "collapsed": false
   },
   "outputs": [],
   "source": [
    "mean_in3 = [[ensemble_in_cluster(r, 3, repeat) for r in [1,2,3,4,5,6,7,8,9]] for repeat in [1,2,3]]\n",
    "mean_in4 = [[ensemble_in_cluster(r, 4, repeat) for r in [1,2,3,4,5,6,7,8,9]] for repeat in [1,2,3]]\n",
    "mean_in5 = [[ensemble_in_cluster(r, 5, repeat) for r in [1,2,3,4,5,6,7,8,9]] for repeat in [1,2,3]]"
   ]
  },
  {
   "cell_type": "code",
   "execution_count": 6,
   "metadata": {
    "collapsed": false
   },
   "outputs": [],
   "source": [
    "mono = [(20*m*4/3*np.pi*5**3)/120**3 for m in [1,2,3,4,5,6,7,8,9]]"
   ]
  },
  {
   "cell_type": "code",
   "execution_count": 13,
   "metadata": {
    "collapsed": false
   },
   "outputs": [
    {
     "data": {
      "image/png": "[encoded data removed]",
      "text/plain": [
       "<matplotlib.figure.Figure at 0x112d41790>"
      ]
     },
     "metadata": {},
     "output_type": "display_data"
    }
   ],
   "source": [
    "fig = pylab.figure()\n",
    "ax = fig.add_subplot(111)\n",
    "pylab.errorbar(mono, [(y1[0]+y2[0])/2. for y1,y2 in zip(mean_in3[0], mean_in3[1])], [abs(y1[0]-y2[0])/2./np.sqrt(2) for y1,y2 in zip(mean_in3[0], mean_in3[1])], label='L=3')\n",
    "pylab.errorbar(mono, [(y1[0]+y2[0])/2. for y1,y2 in zip(mean_in4[0], mean_in4[1])], [abs(y1[0]-y2[0])/2./np.sqrt(2) for y1,y2 in zip(mean_in4[0], mean_in4[1])], label='L=4')\n",
    "pylab.errorbar(mono, [(y1[0]+y2[0])/2. for y1,y2 in zip(mean_in5[0], mean_in5[1])], [abs(y1[0]-y2[0])/2./np.sqrt(2) for y1,y2 in zip(mean_in5[0], mean_in5[1])], label='L=5')\n",
    "pylab.ylim([0,1.01])\n",
    "pylab.rc('xtick', labelsize=0)\n",
    "pylab.rc('ytick', labelsize=0)\n",
    "pylab.xticks([0, 0.02, 0.04, 0.06])\n",
    "ax.set_aspect(0.5/8)\n",
    "#pylab.savefig('/Users/binxu/Desktop/Rubisco_plots/avg_cluster.pdf')"
   ]
  },
  {
   "cell_type": "markdown",
   "metadata": {},
   "source": [
    "## Extended Table"
   ]
  },
  {
   "cell_type": "code",
   "execution_count": 6,
   "metadata": {
    "collapsed": false
   },
   "outputs": [],
   "source": [
    "result = {}\n",
    "for L in ['3','4','5']:\n",
    "    for r in ['1.6', '2.0', '2.5']:\n",
    "        for u in ['0.05', '0.1', '0.2']:\n",
    "            for k in ['0.12', '0.24', '0.48']:\n",
    "                for repeat in [1,2,3]:\n",
    "                    df = pd.read_table(open('OffLatticeResult/robustness/result'+str(repeat)+'/run_'+r+'_'+u+'_'+k+'_L'+L+'.txt', 'r'), header=None)\n",
    "                    nrubi_in = [n_in_cluster(df.iloc[idx,1], int(L), 10) for idx in range(len(df))]\n",
    "                    result[(L,r,u,k,repeat)] = np.mean(nrubi_in)"
   ]
  },
  {
   "cell_type": "code",
   "execution_count": 29,
   "metadata": {
    "collapsed": false
   },
   "outputs": [
    {
     "data": {
      "text/html": [
       "<div>\n",
       "<table border=\"1\" class=\"dataframe\">\n",
       "  <thead>\n",
       "    <tr>\n",
       "      <th></th>\n",
       "      <th></th>\n",
       "      <th></th>\n",
       "      <th></th>\n",
       "      <th colspan=\"3\" halign=\"left\">value</th>\n",
       "    </tr>\n",
       "    <tr>\n",
       "      <th></th>\n",
       "      <th></th>\n",
       "      <th></th>\n",
       "      <th>L</th>\n",
       "      <th>3</th>\n",
       "      <th>4</th>\n",
       "      <th>5</th>\n",
       "    </tr>\n",
       "    <tr>\n",
       "      <th>r</th>\n",
       "      <th>u</th>\n",
       "      <th>k</th>\n",
       "      <th>repeat</th>\n",
       "      <th></th>\n",
       "      <th></th>\n",
       "      <th></th>\n",
       "    </tr>\n",
       "  </thead>\n",
       "  <tbody>\n",
       "    <tr>\n",
       "      <th rowspan=\"27\" valign=\"top\">1.6</th>\n",
       "      <th rowspan=\"9\" valign=\"top\">0.05</th>\n",
       "      <th rowspan=\"3\" valign=\"top\">0.12</th>\n",
       "      <th>1</th>\n",
       "      <td>0.879950</td>\n",
       "      <td>0.000000</td>\n",
       "      <td>0.948813</td>\n",
       "    </tr>\n",
       "    <tr>\n",
       "      <th>2</th>\n",
       "      <td>0.983407</td>\n",
       "      <td>0.000000</td>\n",
       "      <td>0.962105</td>\n",
       "    </tr>\n",
       "    <tr>\n",
       "      <th>3</th>\n",
       "      <td>0.911096</td>\n",
       "      <td>0.000000</td>\n",
       "      <td>0.943691</td>\n",
       "    </tr>\n",
       "    <tr>\n",
       "      <th rowspan=\"3\" valign=\"top\">0.24</th>\n",
       "      <th>1</th>\n",
       "      <td>0.760522</td>\n",
       "      <td>0.000000</td>\n",
       "      <td>0.994614</td>\n",
       "    </tr>\n",
       "    <tr>\n",
       "      <th>2</th>\n",
       "      <td>0.985070</td>\n",
       "      <td>0.333307</td>\n",
       "      <td>0.912228</td>\n",
       "    </tr>\n",
       "    <tr>\n",
       "      <th>3</th>\n",
       "      <td>0.994720</td>\n",
       "      <td>0.249987</td>\n",
       "      <td>0.874920</td>\n",
       "    </tr>\n",
       "    <tr>\n",
       "      <th rowspan=\"3\" valign=\"top\">0.48</th>\n",
       "      <th>1</th>\n",
       "      <td>1.000000</td>\n",
       "      <td>0.999993</td>\n",
       "      <td>0.987500</td>\n",
       "    </tr>\n",
       "    <tr>\n",
       "      <th>2</th>\n",
       "      <td>0.999952</td>\n",
       "      <td>0.999510</td>\n",
       "      <td>1.000000</td>\n",
       "    </tr>\n",
       "    <tr>\n",
       "      <th>3</th>\n",
       "      <td>0.994542</td>\n",
       "      <td>0.999967</td>\n",
       "      <td>1.000000</td>\n",
       "    </tr>\n",
       "    <tr>\n",
       "      <th rowspan=\"9\" valign=\"top\">0.1</th>\n",
       "      <th rowspan=\"3\" valign=\"top\">0.12</th>\n",
       "      <th>1</th>\n",
       "      <td>0.994646</td>\n",
       "      <td>0.000000</td>\n",
       "      <td>0.843849</td>\n",
       "    </tr>\n",
       "    <tr>\n",
       "      <th>2</th>\n",
       "      <td>0.867219</td>\n",
       "      <td>0.000000</td>\n",
       "      <td>0.938252</td>\n",
       "    </tr>\n",
       "    <tr>\n",
       "      <th>3</th>\n",
       "      <td>0.994520</td>\n",
       "      <td>0.000000</td>\n",
       "      <td>0.948793</td>\n",
       "    </tr>\n",
       "    <tr>\n",
       "      <th rowspan=\"3\" valign=\"top\">0.24</th>\n",
       "      <th>1</th>\n",
       "      <td>0.978893</td>\n",
       "      <td>0.470319</td>\n",
       "      <td>0.971308</td>\n",
       "    </tr>\n",
       "    <tr>\n",
       "      <th>2</th>\n",
       "      <td>0.999693</td>\n",
       "      <td>0.183727</td>\n",
       "      <td>0.945703</td>\n",
       "    </tr>\n",
       "    <tr>\n",
       "      <th>3</th>\n",
       "      <td>0.999619</td>\n",
       "      <td>0.300000</td>\n",
       "      <td>0.821351</td>\n",
       "    </tr>\n",
       "    <tr>\n",
       "      <th rowspan=\"3\" valign=\"top\">0.48</th>\n",
       "      <th>1</th>\n",
       "      <td>0.995223</td>\n",
       "      <td>0.884060</td>\n",
       "      <td>0.998110</td>\n",
       "    </tr>\n",
       "    <tr>\n",
       "      <th>2</th>\n",
       "      <td>0.999970</td>\n",
       "      <td>0.999733</td>\n",
       "      <td>0.999895</td>\n",
       "    </tr>\n",
       "    <tr>\n",
       "      <th>3</th>\n",
       "      <td>0.999830</td>\n",
       "      <td>0.999310</td>\n",
       "      <td>1.000000</td>\n",
       "    </tr>\n",
       "    <tr>\n",
       "      <th rowspan=\"9\" valign=\"top\">0.2</th>\n",
       "      <th rowspan=\"3\" valign=\"top\">0.12</th>\n",
       "      <th>1</th>\n",
       "      <td>0.984044</td>\n",
       "      <td>0.000000</td>\n",
       "      <td>0.927932</td>\n",
       "    </tr>\n",
       "    <tr>\n",
       "      <th>2</th>\n",
       "      <td>0.883027</td>\n",
       "      <td>0.000000</td>\n",
       "      <td>0.930554</td>\n",
       "    </tr>\n",
       "    <tr>\n",
       "      <th>3</th>\n",
       "      <td>0.791723</td>\n",
       "      <td>0.000000</td>\n",
       "      <td>0.926710</td>\n",
       "    </tr>\n",
       "    <tr>\n",
       "      <th rowspan=\"3\" valign=\"top\">0.24</th>\n",
       "      <th>1</th>\n",
       "      <td>0.999811</td>\n",
       "      <td>0.200000</td>\n",
       "      <td>0.938590</td>\n",
       "    </tr>\n",
       "    <tr>\n",
       "      <th>2</th>\n",
       "      <td>0.981270</td>\n",
       "      <td>0.216667</td>\n",
       "      <td>0.969386</td>\n",
       "    </tr>\n",
       "    <tr>\n",
       "      <th>3</th>\n",
       "      <td>0.981552</td>\n",
       "      <td>0.183333</td>\n",
       "      <td>0.973153</td>\n",
       "    </tr>\n",
       "    <tr>\n",
       "      <th rowspan=\"3\" valign=\"top\">0.48</th>\n",
       "      <th>1</th>\n",
       "      <td>0.999967</td>\n",
       "      <td>1.000000</td>\n",
       "      <td>1.000000</td>\n",
       "    </tr>\n",
       "    <tr>\n",
       "      <th>2</th>\n",
       "      <td>0.999981</td>\n",
       "      <td>0.983297</td>\n",
       "      <td>0.999938</td>\n",
       "    </tr>\n",
       "    <tr>\n",
       "      <th>3</th>\n",
       "      <td>1.000000</td>\n",
       "      <td>0.999767</td>\n",
       "      <td>1.000000</td>\n",
       "    </tr>\n",
       "    <tr>\n",
       "      <th rowspan=\"27\" valign=\"top\">2.0</th>\n",
       "      <th rowspan=\"9\" valign=\"top\">0.05</th>\n",
       "      <th rowspan=\"3\" valign=\"top\">0.12</th>\n",
       "      <th>1</th>\n",
       "      <td>0.999430</td>\n",
       "      <td>0.000000</td>\n",
       "      <td>0.965674</td>\n",
       "    </tr>\n",
       "    <tr>\n",
       "      <th>2</th>\n",
       "      <td>0.944200</td>\n",
       "      <td>0.000000</td>\n",
       "      <td>0.896076</td>\n",
       "    </tr>\n",
       "    <tr>\n",
       "      <th>3</th>\n",
       "      <td>0.855488</td>\n",
       "      <td>0.000000</td>\n",
       "      <td>0.898618</td>\n",
       "    </tr>\n",
       "    <tr>\n",
       "      <th rowspan=\"3\" valign=\"top\">0.24</th>\n",
       "      <th>1</th>\n",
       "      <td>0.999411</td>\n",
       "      <td>0.000000</td>\n",
       "      <td>0.972203</td>\n",
       "    </tr>\n",
       "    <tr>\n",
       "      <th>2</th>\n",
       "      <td>0.999274</td>\n",
       "      <td>0.280771</td>\n",
       "      <td>0.962245</td>\n",
       "    </tr>\n",
       "    <tr>\n",
       "      <th>3</th>\n",
       "      <td>0.981363</td>\n",
       "      <td>0.000000</td>\n",
       "      <td>0.964595</td>\n",
       "    </tr>\n",
       "    <tr>\n",
       "      <th rowspan=\"3\" valign=\"top\">0.48</th>\n",
       "      <th>1</th>\n",
       "      <td>0.999811</td>\n",
       "      <td>0.899997</td>\n",
       "      <td>1.000000</td>\n",
       "    </tr>\n",
       "    <tr>\n",
       "      <th>2</th>\n",
       "      <td>0.999985</td>\n",
       "      <td>0.904626</td>\n",
       "      <td>0.999665</td>\n",
       "    </tr>\n",
       "    <tr>\n",
       "      <th>3</th>\n",
       "      <td>0.999944</td>\n",
       "      <td>0.956045</td>\n",
       "      <td>1.000000</td>\n",
       "    </tr>\n",
       "    <tr>\n",
       "      <th rowspan=\"9\" valign=\"top\">0.1</th>\n",
       "      <th rowspan=\"3\" valign=\"top\">0.12</th>\n",
       "      <th>1</th>\n",
       "      <td>0.999722</td>\n",
       "      <td>0.000000</td>\n",
       "      <td>0.929052</td>\n",
       "    </tr>\n",
       "    <tr>\n",
       "      <th>2</th>\n",
       "      <td>0.919509</td>\n",
       "      <td>0.000000</td>\n",
       "      <td>0.959366</td>\n",
       "    </tr>\n",
       "    <tr>\n",
       "      <th>3</th>\n",
       "      <td>0.996701</td>\n",
       "      <td>0.000000</td>\n",
       "      <td>0.938177</td>\n",
       "    </tr>\n",
       "    <tr>\n",
       "      <th rowspan=\"3\" valign=\"top\">0.24</th>\n",
       "      <th>1</th>\n",
       "      <td>0.999500</td>\n",
       "      <td>0.283203</td>\n",
       "      <td>0.949998</td>\n",
       "    </tr>\n",
       "    <tr>\n",
       "      <th>2</th>\n",
       "      <td>0.989617</td>\n",
       "      <td>0.049923</td>\n",
       "      <td>0.999913</td>\n",
       "    </tr>\n",
       "    <tr>\n",
       "      <th>3</th>\n",
       "      <td>0.999789</td>\n",
       "      <td>0.199990</td>\n",
       "      <td>0.948975</td>\n",
       "    </tr>\n",
       "    <tr>\n",
       "      <th rowspan=\"3\" valign=\"top\">0.48</th>\n",
       "      <th>1</th>\n",
       "      <td>0.999963</td>\n",
       "      <td>0.804346</td>\n",
       "      <td>1.000000</td>\n",
       "    </tr>\n",
       "    <tr>\n",
       "      <th>2</th>\n",
       "      <td>0.999989</td>\n",
       "      <td>0.966647</td>\n",
       "      <td>0.999903</td>\n",
       "    </tr>\n",
       "    <tr>\n",
       "      <th>3</th>\n",
       "      <td>0.999693</td>\n",
       "      <td>0.949990</td>\n",
       "      <td>0.999998</td>\n",
       "    </tr>\n",
       "    <tr>\n",
       "      <th rowspan=\"9\" valign=\"top\">0.2</th>\n",
       "      <th rowspan=\"3\" valign=\"top\">0.12</th>\n",
       "      <th>1</th>\n",
       "      <td>0.996619</td>\n",
       "      <td>0.000000</td>\n",
       "      <td>0.949960</td>\n",
       "    </tr>\n",
       "    <tr>\n",
       "      <th>2</th>\n",
       "      <td>0.905730</td>\n",
       "      <td>0.000000</td>\n",
       "      <td>0.937148</td>\n",
       "    </tr>\n",
       "    <tr>\n",
       "      <th>3</th>\n",
       "      <td>0.979356</td>\n",
       "      <td>0.000000</td>\n",
       "      <td>0.936250</td>\n",
       "    </tr>\n",
       "    <tr>\n",
       "      <th rowspan=\"3\" valign=\"top\">0.24</th>\n",
       "      <th>1</th>\n",
       "      <td>0.985307</td>\n",
       "      <td>0.396981</td>\n",
       "      <td>0.872813</td>\n",
       "    </tr>\n",
       "    <tr>\n",
       "      <th>2</th>\n",
       "      <td>0.998582</td>\n",
       "      <td>0.266667</td>\n",
       "      <td>0.987200</td>\n",
       "    </tr>\n",
       "    <tr>\n",
       "      <th>3</th>\n",
       "      <td>0.999819</td>\n",
       "      <td>0.333033</td>\n",
       "      <td>0.979109</td>\n",
       "    </tr>\n",
       "    <tr>\n",
       "      <th rowspan=\"3\" valign=\"top\">0.48</th>\n",
       "      <th>1</th>\n",
       "      <td>0.999996</td>\n",
       "      <td>0.949840</td>\n",
       "      <td>0.994174</td>\n",
       "    </tr>\n",
       "    <tr>\n",
       "      <th>2</th>\n",
       "      <td>0.992005</td>\n",
       "      <td>0.955396</td>\n",
       "      <td>0.999995</td>\n",
       "    </tr>\n",
       "    <tr>\n",
       "      <th>3</th>\n",
       "      <td>0.999826</td>\n",
       "      <td>0.927111</td>\n",
       "      <td>0.999935</td>\n",
       "    </tr>\n",
       "    <tr>\n",
       "      <th rowspan=\"27\" valign=\"top\">2.5</th>\n",
       "      <th rowspan=\"9\" valign=\"top\">0.05</th>\n",
       "      <th rowspan=\"3\" valign=\"top\">0.12</th>\n",
       "      <th>1</th>\n",
       "      <td>0.990339</td>\n",
       "      <td>0.000000</td>\n",
       "      <td>0.891097</td>\n",
       "    </tr>\n",
       "    <tr>\n",
       "      <th>2</th>\n",
       "      <td>0.981404</td>\n",
       "      <td>0.000000</td>\n",
       "      <td>0.856179</td>\n",
       "    </tr>\n",
       "    <tr>\n",
       "      <th>3</th>\n",
       "      <td>0.975157</td>\n",
       "      <td>0.000000</td>\n",
       "      <td>0.974870</td>\n",
       "    </tr>\n",
       "    <tr>\n",
       "      <th rowspan=\"3\" valign=\"top\">0.24</th>\n",
       "      <th>1</th>\n",
       "      <td>0.981389</td>\n",
       "      <td>0.000000</td>\n",
       "      <td>0.974483</td>\n",
       "    </tr>\n",
       "    <tr>\n",
       "      <th>2</th>\n",
       "      <td>0.833141</td>\n",
       "      <td>0.000000</td>\n",
       "      <td>0.899998</td>\n",
       "    </tr>\n",
       "    <tr>\n",
       "      <th>3</th>\n",
       "      <td>0.979674</td>\n",
       "      <td>0.000000</td>\n",
       "      <td>0.887493</td>\n",
       "    </tr>\n",
       "    <tr>\n",
       "      <th rowspan=\"3\" valign=\"top\">0.48</th>\n",
       "      <th>1</th>\n",
       "      <td>0.911388</td>\n",
       "      <td>0.779361</td>\n",
       "      <td>0.999890</td>\n",
       "    </tr>\n",
       "    <tr>\n",
       "      <th>2</th>\n",
       "      <td>0.999974</td>\n",
       "      <td>0.899873</td>\n",
       "      <td>0.987500</td>\n",
       "    </tr>\n",
       "    <tr>\n",
       "      <th>3</th>\n",
       "      <td>0.999989</td>\n",
       "      <td>0.831950</td>\n",
       "      <td>0.999860</td>\n",
       "    </tr>\n",
       "    <tr>\n",
       "      <th rowspan=\"9\" valign=\"top\">0.1</th>\n",
       "      <th rowspan=\"3\" valign=\"top\">0.12</th>\n",
       "      <th>1</th>\n",
       "      <td>0.999922</td>\n",
       "      <td>0.000000</td>\n",
       "      <td>0.962300</td>\n",
       "    </tr>\n",
       "    <tr>\n",
       "      <th>2</th>\n",
       "      <td>0.971735</td>\n",
       "      <td>0.000000</td>\n",
       "      <td>0.981201</td>\n",
       "    </tr>\n",
       "    <tr>\n",
       "      <th>3</th>\n",
       "      <td>0.938086</td>\n",
       "      <td>0.000000</td>\n",
       "      <td>0.868046</td>\n",
       "    </tr>\n",
       "    <tr>\n",
       "      <th rowspan=\"3\" valign=\"top\">0.24</th>\n",
       "      <th>1</th>\n",
       "      <td>0.888574</td>\n",
       "      <td>0.000000</td>\n",
       "      <td>0.961765</td>\n",
       "    </tr>\n",
       "    <tr>\n",
       "      <th>2</th>\n",
       "      <td>0.994386</td>\n",
       "      <td>0.000000</td>\n",
       "      <td>0.837435</td>\n",
       "    </tr>\n",
       "    <tr>\n",
       "      <th>3</th>\n",
       "      <td>0.999956</td>\n",
       "      <td>0.000000</td>\n",
       "      <td>0.849783</td>\n",
       "    </tr>\n",
       "    <tr>\n",
       "      <th rowspan=\"3\" valign=\"top\">0.48</th>\n",
       "      <th>1</th>\n",
       "      <td>0.906548</td>\n",
       "      <td>0.915370</td>\n",
       "      <td>0.887398</td>\n",
       "    </tr>\n",
       "    <tr>\n",
       "      <th>2</th>\n",
       "      <td>1.000000</td>\n",
       "      <td>0.933287</td>\n",
       "      <td>0.999950</td>\n",
       "    </tr>\n",
       "    <tr>\n",
       "      <th>3</th>\n",
       "      <td>0.999993</td>\n",
       "      <td>0.883273</td>\n",
       "      <td>0.999925</td>\n",
       "    </tr>\n",
       "    <tr>\n",
       "      <th rowspan=\"9\" valign=\"top\">0.2</th>\n",
       "      <th rowspan=\"3\" valign=\"top\">0.12</th>\n",
       "      <th>1</th>\n",
       "      <td>0.929344</td>\n",
       "      <td>0.000000</td>\n",
       "      <td>0.986935</td>\n",
       "    </tr>\n",
       "    <tr>\n",
       "      <th>2</th>\n",
       "      <td>0.986925</td>\n",
       "      <td>0.000000</td>\n",
       "      <td>0.973705</td>\n",
       "    </tr>\n",
       "    <tr>\n",
       "      <th>3</th>\n",
       "      <td>0.963659</td>\n",
       "      <td>0.000000</td>\n",
       "      <td>0.974103</td>\n",
       "    </tr>\n",
       "    <tr>\n",
       "      <th rowspan=\"3\" valign=\"top\">0.24</th>\n",
       "      <th>1</th>\n",
       "      <td>0.999774</td>\n",
       "      <td>0.139212</td>\n",
       "      <td>0.974815</td>\n",
       "    </tr>\n",
       "    <tr>\n",
       "      <th>2</th>\n",
       "      <td>0.984062</td>\n",
       "      <td>0.000000</td>\n",
       "      <td>0.969806</td>\n",
       "    </tr>\n",
       "    <tr>\n",
       "      <th>3</th>\n",
       "      <td>0.988673</td>\n",
       "      <td>0.000000</td>\n",
       "      <td>0.909951</td>\n",
       "    </tr>\n",
       "    <tr>\n",
       "      <th rowspan=\"3\" valign=\"top\">0.48</th>\n",
       "      <th>1</th>\n",
       "      <td>0.925807</td>\n",
       "      <td>0.933303</td>\n",
       "      <td>0.987465</td>\n",
       "    </tr>\n",
       "    <tr>\n",
       "      <th>2</th>\n",
       "      <td>0.999852</td>\n",
       "      <td>0.910471</td>\n",
       "      <td>0.987453</td>\n",
       "    </tr>\n",
       "    <tr>\n",
       "      <th>3</th>\n",
       "      <td>0.994409</td>\n",
       "      <td>0.837916</td>\n",
       "      <td>0.999930</td>\n",
       "    </tr>\n",
       "  </tbody>\n",
       "</table>\n",
       "</div>"
      ],
      "text/plain": [
       "                         value                    \n",
       "L                            3         4         5\n",
       "r   u    k    repeat                              \n",
       "1.6 0.05 0.12 1       0.879950  0.000000  0.948813\n",
       "              2       0.983407  0.000000  0.962105\n",
       "              3       0.911096  0.000000  0.943691\n",
       "         0.24 1       0.760522  0.000000  0.994614\n",
       "              2       0.985070  0.333307  0.912228\n",
       "              3       0.994720  0.249987  0.874920\n",
       "         0.48 1       1.000000  0.999993  0.987500\n",
       "              2       0.999952  0.999510  1.000000\n",
       "              3       0.994542  0.999967  1.000000\n",
       "    0.1  0.12 1       0.994646  0.000000  0.843849\n",
       "              2       0.867219  0.000000  0.938252\n",
       "              3       0.994520  0.000000  0.948793\n",
       "         0.24 1       0.978893  0.470319  0.971308\n",
       "              2       0.999693  0.183727  0.945703\n",
       "              3       0.999619  0.300000  0.821351\n",
       "         0.48 1       0.995223  0.884060  0.998110\n",
       "              2       0.999970  0.999733  0.999895\n",
       "              3       0.999830  0.999310  1.000000\n",
       "    0.2  0.12 1       0.984044  0.000000  0.927932\n",
       "              2       0.883027  0.000000  0.930554\n",
       "              3       0.791723  0.000000  0.926710\n",
       "         0.24 1       0.999811  0.200000  0.938590\n",
       "              2       0.981270  0.216667  0.969386\n",
       "              3       0.981552  0.183333  0.973153\n",
       "         0.48 1       0.999967  1.000000  1.000000\n",
       "              2       0.999981  0.983297  0.999938\n",
       "              3       1.000000  0.999767  1.000000\n",
       "2.0 0.05 0.12 1       0.999430  0.000000  0.965674\n",
       "              2       0.944200  0.000000  0.896076\n",
       "              3       0.855488  0.000000  0.898618\n",
       "         0.24 1       0.999411  0.000000  0.972203\n",
       "              2       0.999274  0.280771  0.962245\n",
       "              3       0.981363  0.000000  0.964595\n",
       "         0.48 1       0.999811  0.899997  1.000000\n",
       "              2       0.999985  0.904626  0.999665\n",
       "              3       0.999944  0.956045  1.000000\n",
       "    0.1  0.12 1       0.999722  0.000000  0.929052\n",
       "              2       0.919509  0.000000  0.959366\n",
       "              3       0.996701  0.000000  0.938177\n",
       "         0.24 1       0.999500  0.283203  0.949998\n",
       "              2       0.989617  0.049923  0.999913\n",
       "              3       0.999789  0.199990  0.948975\n",
       "         0.48 1       0.999963  0.804346  1.000000\n",
       "              2       0.999989  0.966647  0.999903\n",
       "              3       0.999693  0.949990  0.999998\n",
       "    0.2  0.12 1       0.996619  0.000000  0.949960\n",
       "              2       0.905730  0.000000  0.937148\n",
       "              3       0.979356  0.000000  0.936250\n",
       "         0.24 1       0.985307  0.396981  0.872813\n",
       "              2       0.998582  0.266667  0.987200\n",
       "              3       0.999819  0.333033  0.979109\n",
       "         0.48 1       0.999996  0.949840  0.994174\n",
       "              2       0.992005  0.955396  0.999995\n",
       "              3       0.999826  0.927111  0.999935\n",
       "2.5 0.05 0.12 1       0.990339  0.000000  0.891097\n",
       "              2       0.981404  0.000000  0.856179\n",
       "              3       0.975157  0.000000  0.974870\n",
       "         0.24 1       0.981389  0.000000  0.974483\n",
       "              2       0.833141  0.000000  0.899998\n",
       "              3       0.979674  0.000000  0.887493\n",
       "         0.48 1       0.911388  0.779361  0.999890\n",
       "              2       0.999974  0.899873  0.987500\n",
       "              3       0.999989  0.831950  0.999860\n",
       "    0.1  0.12 1       0.999922  0.000000  0.962300\n",
       "              2       0.971735  0.000000  0.981201\n",
       "              3       0.938086  0.000000  0.868046\n",
       "         0.24 1       0.888574  0.000000  0.961765\n",
       "              2       0.994386  0.000000  0.837435\n",
       "              3       0.999956  0.000000  0.849783\n",
       "         0.48 1       0.906548  0.915370  0.887398\n",
       "              2       1.000000  0.933287  0.999950\n",
       "              3       0.999993  0.883273  0.999925\n",
       "    0.2  0.12 1       0.929344  0.000000  0.986935\n",
       "              2       0.986925  0.000000  0.973705\n",
       "              3       0.963659  0.000000  0.974103\n",
       "         0.24 1       0.999774  0.139212  0.974815\n",
       "              2       0.984062  0.000000  0.969806\n",
       "              3       0.988673  0.000000  0.909951\n",
       "         0.48 1       0.925807  0.933303  0.987465\n",
       "              2       0.999852  0.910471  0.987453\n",
       "              3       0.994409  0.837916  0.999930"
      ]
     },
     "execution_count": 29,
     "metadata": {},
     "output_type": "execute_result"
    }
   ],
   "source": [
    "pd.set_option('display.max_rows', 500)\n",
    "df = pd.DataFrame.from_dict(result, orient='index').reset_index()\n",
    "df[['L', 'r', 'u', 'k', 'repeat']] = df['index'].apply(pd.Series)\n",
    "df['value'] = df[0]\n",
    "df=df[['L', 'r', 'u', 'k', 'repeat', 'value']]\n",
    "df.set_index(['r', 'u', 'k','L', 'repeat']).unstack(['L']).sortlevel(0, axis=1)"
   ]
  },
  {
   "cell_type": "code",
   "execution_count": 43,
   "metadata": {
    "collapsed": false
   },
   "outputs": [],
   "source": [
    "pd.options.display.float_format = '{:,.2f}'.format\n",
    "newdf = df.drop('repeat', axis=1).groupby(['r', 'u', 'k', 'L']).mean().reset_index()\n",
    "newdf['std'] = df.drop('repeat', axis=1).groupby(['r', 'u', 'k', 'L']).std().reset_index()['value']\n",
    "newdf['result'] = ['{:,.2f} +/- {:,.2f}'.format(v,s) for v, s in zip(newdf['value'].values, newdf['std'].values)]\n",
    "outputdf=newdf.set_index(['r', 'u', 'k','L']).unstack(['L']).sortlevel(0, axis=1)['result']"
   ]
  },
  {
   "cell_type": "code",
   "execution_count": 44,
   "metadata": {
    "collapsed": true
   },
   "outputs": [],
   "source": [
    "outputdf.to_csv('Robustness.csv')"
   ]
  },
  {
   "cell_type": "code",
   "execution_count": null,
   "metadata": {
    "collapsed": true
   },
   "outputs": [],
   "source": []
  }
 ],
 "metadata": {
  "anaconda-cloud": {},
  "kernelspec": {
   "display_name": "Python [Root]",
   "language": "python",
   "name": "Python [Root]"
  },
  "language_info": {
   "codemirror_mode": {
    "name": "ipython",
    "version": 2
   },
   "file_extension": ".py",
   "mimetype": "text/x-python",
   "name": "python",
   "nbconvert_exporter": "python",
   "pygments_lexer": "ipython2",
   "version": "2.7.12"
  }
 },
 "nbformat": 4,
 "nbformat_minor": 0
}
